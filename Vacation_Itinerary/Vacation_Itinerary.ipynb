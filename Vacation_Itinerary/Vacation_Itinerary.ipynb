{
 "cells": [
  {
   "cell_type": "markdown",
   "metadata": {},
   "source": [
    "## Deliverable 3. Create a Travel Itinerary Map."
   ]
  },
  {
   "cell_type": "code",
   "execution_count": 55,
   "metadata": {},
   "outputs": [],
   "source": [
    "# Dependencies and Setup\n",
    "import pandas as pd\n",
    "import requests\n",
    "import gmaps\n",
    "import numpy as np\n",
    "\n",
    "# Import API key\n",
    "from config import g_key\n",
    "\n",
    "# Configure gmaps\n",
    "gmaps.configure(api_key=g_key)"
   ]
  },
  {
   "cell_type": "code",
   "execution_count": 56,
   "metadata": {},
   "outputs": [
    {
     "data": {
      "text/html": [
       "<div>\n",
       "<style scoped>\n",
       "    .dataframe tbody tr th:only-of-type {\n",
       "        vertical-align: middle;\n",
       "    }\n",
       "\n",
       "    .dataframe tbody tr th {\n",
       "        vertical-align: top;\n",
       "    }\n",
       "\n",
       "    .dataframe thead th {\n",
       "        text-align: right;\n",
       "    }\n",
       "</style>\n",
       "<table border=\"1\" class=\"dataframe\">\n",
       "  <thead>\n",
       "    <tr style=\"text-align: right;\">\n",
       "      <th></th>\n",
       "      <th>City_ID</th>\n",
       "      <th>City</th>\n",
       "      <th>Country</th>\n",
       "      <th>Max Temp</th>\n",
       "      <th>Weather Description</th>\n",
       "      <th>Lat</th>\n",
       "      <th>Lng</th>\n",
       "      <th>Hotel Name</th>\n",
       "      <th>Hotel Location Code</th>\n",
       "    </tr>\n",
       "  </thead>\n",
       "  <tbody>\n",
       "    <tr>\n",
       "      <th>0</th>\n",
       "      <td>4</td>\n",
       "      <td>Iracoubo</td>\n",
       "      <td>GF</td>\n",
       "      <td>86.04</td>\n",
       "      <td>light rain</td>\n",
       "      <td>5.48</td>\n",
       "      <td>-53.20</td>\n",
       "      <td>Le Gite D Iracoubo</td>\n",
       "      <td>ChIJAcV9k1hDDo0REJBJbbqcHTc</td>\n",
       "    </tr>\n",
       "    <tr>\n",
       "      <th>1</th>\n",
       "      <td>5</td>\n",
       "      <td>Cam Ranh</td>\n",
       "      <td>VN</td>\n",
       "      <td>84.20</td>\n",
       "      <td>few clouds</td>\n",
       "      <td>11.92</td>\n",
       "      <td>109.16</td>\n",
       "      <td>OYO 598 Peony Hotel</td>\n",
       "      <td>ChIJt7i-AQbtcDERUjY4Osz-2Ws</td>\n",
       "    </tr>\n",
       "    <tr>\n",
       "      <th>2</th>\n",
       "      <td>7</td>\n",
       "      <td>Lazaro Cardenas</td>\n",
       "      <td>MX</td>\n",
       "      <td>83.52</td>\n",
       "      <td>clear sky</td>\n",
       "      <td>17.96</td>\n",
       "      <td>-102.20</td>\n",
       "      <td>Collection O Hotel Quinta Antigua</td>\n",
       "      <td>ChIJ0Xy0XG9cMYQRj_ftS-HNei8</td>\n",
       "    </tr>\n",
       "    <tr>\n",
       "      <th>3</th>\n",
       "      <td>11</td>\n",
       "      <td>Alugan</td>\n",
       "      <td>PH</td>\n",
       "      <td>78.73</td>\n",
       "      <td>overcast clouds</td>\n",
       "      <td>12.22</td>\n",
       "      <td>125.48</td>\n",
       "      <td>BEMBEM RAIN FEED RESORT</td>\n",
       "      <td>ChIJcdw6NGllCTMRRQsaatTrsRM</td>\n",
       "    </tr>\n",
       "    <tr>\n",
       "      <th>4</th>\n",
       "      <td>16</td>\n",
       "      <td>Carora</td>\n",
       "      <td>VE</td>\n",
       "      <td>89.69</td>\n",
       "      <td>broken clouds</td>\n",
       "      <td>10.18</td>\n",
       "      <td>-70.08</td>\n",
       "      <td>Hotel Irpinia</td>\n",
       "      <td>ChIJVbPoGGTth44RTY6h4aut3mE</td>\n",
       "    </tr>\n",
       "  </tbody>\n",
       "</table>\n",
       "</div>"
      ],
      "text/plain": [
       "   City_ID             City Country  Max Temp Weather Description    Lat  \\\n",
       "0        4         Iracoubo      GF     86.04          light rain   5.48   \n",
       "1        5         Cam Ranh      VN     84.20          few clouds  11.92   \n",
       "2        7  Lazaro Cardenas      MX     83.52           clear sky  17.96   \n",
       "3       11           Alugan      PH     78.73     overcast clouds  12.22   \n",
       "4       16           Carora      VE     89.69       broken clouds  10.18   \n",
       "\n",
       "      Lng                         Hotel Name          Hotel Location Code  \n",
       "0  -53.20                 Le Gite D Iracoubo  ChIJAcV9k1hDDo0REJBJbbqcHTc  \n",
       "1  109.16                OYO 598 Peony Hotel  ChIJt7i-AQbtcDERUjY4Osz-2Ws  \n",
       "2 -102.20  Collection O Hotel Quinta Antigua  ChIJ0Xy0XG9cMYQRj_ftS-HNei8  \n",
       "3  125.48            BEMBEM RAIN FEED RESORT  ChIJcdw6NGllCTMRRQsaatTrsRM  \n",
       "4  -70.08                      Hotel Irpinia  ChIJVbPoGGTth44RTY6h4aut3mE  "
      ]
     },
     "execution_count": 56,
     "metadata": {},
     "output_type": "execute_result"
    }
   ],
   "source": [
    "# 1. Read the WeatherPy_vacation.csv into a DataFrame.\n",
    "vacation_df = pd.read_csv(\"../Vacation_Search/WeatherPy_vacation.csv\")\n",
    "vacation_df.head()"
   ]
  },
  {
   "cell_type": "code",
   "execution_count": 57,
   "metadata": {},
   "outputs": [],
   "source": [
    "# 2. Using the template add the city name, the country code, the weather description and maximum temperature for the city.\n",
    "info_box_template = \"\"\"\n",
    "<dl>\n",
    "<dt>Hotel Name</dt><dd>{Hotel Name}</dd>\n",
    "<dt>City</dt><dd>{City}</dd>\n",
    "<dt>Country</dt><dd>{Country}</dd>\n",
    "<dt>Weather</dt><dd>{Weather Description}</dd>\n",
    "<dt>Max Temp</dt><dd>{Max Temp} °F</dd>\n",
    "</dl>\n",
    "\"\"\"\n",
    "\n",
    "# 3a. Get the data from each row and add it to the formatting template and store the data in a list.\n",
    "hotel_info = [info_box_template.format(**row) for index, row in vacation_df.iterrows()]\n",
    "\n",
    "# 3b. Get the latitude and longitude from each row and store in a new DataFrame.\n",
    "locations = vacation_df[[\"Lat\", \"Lng\"]]"
   ]
  },
  {
   "cell_type": "code",
   "execution_count": 58,
   "metadata": {},
   "outputs": [
    {
     "data": {
      "application/vnd.jupyter.widget-view+json": {
       "model_id": "07788ab7e36f437c96457099fd853e6c",
       "version_major": 2,
       "version_minor": 0
      },
      "text/plain": [
       "Figure(layout=FigureLayout(height='420px'))"
      ]
     },
     "metadata": {},
     "output_type": "display_data"
    }
   ],
   "source": [
    "# 4a. Add a marker layer for each city to the map.\n",
    "fig = gmaps.figure(center=(30.0, 31.0), zoom_level=1.5)\n",
    "marker_layer = gmaps.marker_layer(locations, info_box_content=hotel_info)\n",
    "fig.add_layer(marker_layer)\n",
    "\n",
    "# 4b. Display the figure\n",
    "fig"
   ]
  },
  {
   "cell_type": "code",
   "execution_count": 59,
   "metadata": {},
   "outputs": [
    {
     "data": {
      "text/html": [
       "<div>\n",
       "<style scoped>\n",
       "    .dataframe tbody tr th:only-of-type {\n",
       "        vertical-align: middle;\n",
       "    }\n",
       "\n",
       "    .dataframe tbody tr th {\n",
       "        vertical-align: top;\n",
       "    }\n",
       "\n",
       "    .dataframe thead th {\n",
       "        text-align: right;\n",
       "    }\n",
       "</style>\n",
       "<table border=\"1\" class=\"dataframe\">\n",
       "  <thead>\n",
       "    <tr style=\"text-align: right;\">\n",
       "      <th></th>\n",
       "      <th>City_ID</th>\n",
       "      <th>City</th>\n",
       "      <th>Country</th>\n",
       "      <th>Max Temp</th>\n",
       "      <th>Weather Description</th>\n",
       "      <th>Lat</th>\n",
       "      <th>Lng</th>\n",
       "      <th>Hotel Name</th>\n",
       "      <th>Hotel Location Code</th>\n",
       "    </tr>\n",
       "  </thead>\n",
       "  <tbody>\n",
       "    <tr>\n",
       "      <th>91</th>\n",
       "      <td>346</td>\n",
       "      <td>Port Keats</td>\n",
       "      <td>AU</td>\n",
       "      <td>81.99</td>\n",
       "      <td>overcast clouds</td>\n",
       "      <td>-14.25</td>\n",
       "      <td>129.55</td>\n",
       "      <td>TDC Village (Hundred Man Camp)</td>\n",
       "      <td>ChIJ5xCIME9wliwRFR-WyMBAa8c</td>\n",
       "    </tr>\n",
       "  </tbody>\n",
       "</table>\n",
       "</div>"
      ],
      "text/plain": [
       "    City_ID        City Country  Max Temp Weather Description    Lat     Lng  \\\n",
       "91      346  Port Keats      AU     81.99     overcast clouds -14.25  129.55   \n",
       "\n",
       "                        Hotel Name          Hotel Location Code  \n",
       "91  TDC Village (Hundred Man Camp)  ChIJ5xCIME9wliwRFR-WyMBAa8c  "
      ]
     },
     "execution_count": 59,
     "metadata": {},
     "output_type": "execute_result"
    }
   ],
   "source": [
    "# From the map above pick 4 cities and create a vacation itinerary route to travel between the four cities. \n",
    "# 5. Create DataFrames for each city by filtering the 'vacation_df' using the loc method. \n",
    "# Hint: The starting and ending city should be the same city.\n",
    "\n",
    "vacation_start = vacation_df.loc[vacation_df['City'] == 'Port Keats']\n",
    "vacation_end = vacation_df.loc[vacation_df['City'] == 'Port Keats']\n",
    "vacation_stop1 = vacation_df.loc[vacation_df['City'] == 'Mount Isa']\n",
    "vacation_stop2 = vacation_df.loc[vacation_df['City'] == 'Alice Springs']\n",
    "vacation_stop3 = vacation_df.loc[vacation_df['City'] == 'Yulara'] \n",
    "vacation_start"
   ]
  },
  {
   "cell_type": "code",
   "execution_count": 60,
   "metadata": {},
   "outputs": [],
   "source": [
    "# 6. Get the latitude-longitude pairs as tuples from each city DataFrame using the to_numpy function and list indexing.\n",
    "start = vacation_start[['Lat', 'Lng']].to_numpy() \n",
    "end = vacation_end[['Lat', 'Lng']].to_numpy() \n",
    "stop1 = vacation_stop1[['Lat', 'Lng']].to_numpy() \n",
    "stop2 = vacation_stop2[['Lat', 'Lng']].to_numpy() \n",
    "stop3 = vacation_stop3[['Lat', 'Lng']].to_numpy() "
   ]
  },
  {
   "cell_type": "code",
   "execution_count": 61,
   "metadata": {},
   "outputs": [
    {
     "data": {
      "application/vnd.jupyter.widget-view+json": {
       "model_id": "9ef6564f72da416bbd05c3fb0e87b6b3",
       "version_major": 2,
       "version_minor": 0
      },
      "text/plain": [
       "Figure(layout=FigureLayout(height='420px'))"
      ]
     },
     "metadata": {},
     "output_type": "display_data"
    }
   ],
   "source": [
    "# 7. Create a direction layer map using the start and end latitude-longitude pairs,\n",
    "# and stop1, stop2, and stop3 as the waypoints. The travel_mode should be \"DRIVING\", \"BICYCLING\", or \"WALKING\".\n",
    "\n",
    "fig = gmaps.figure()\n",
    "trip_layer = gmaps.directions_layer(start[0], end[0], waypoints = [stop1[0], stop2[0], stop3[0]], travel_mode = 'DRIVING')\n",
    "fig.add_layer(trip_layer)\n",
    "fig"
   ]
  },
  {
   "cell_type": "code",
   "execution_count": 62,
   "metadata": {},
   "outputs": [
    {
     "data": {
      "text/html": [
       "<div>\n",
       "<style scoped>\n",
       "    .dataframe tbody tr th:only-of-type {\n",
       "        vertical-align: middle;\n",
       "    }\n",
       "\n",
       "    .dataframe tbody tr th {\n",
       "        vertical-align: top;\n",
       "    }\n",
       "\n",
       "    .dataframe thead th {\n",
       "        text-align: right;\n",
       "    }\n",
       "</style>\n",
       "<table border=\"1\" class=\"dataframe\">\n",
       "  <thead>\n",
       "    <tr style=\"text-align: right;\">\n",
       "      <th></th>\n",
       "      <th>City_ID</th>\n",
       "      <th>City</th>\n",
       "      <th>Country</th>\n",
       "      <th>Max Temp</th>\n",
       "      <th>Weather Description</th>\n",
       "      <th>Lat</th>\n",
       "      <th>Lng</th>\n",
       "      <th>Hotel Name</th>\n",
       "      <th>Hotel Location Code</th>\n",
       "    </tr>\n",
       "  </thead>\n",
       "  <tbody>\n",
       "    <tr>\n",
       "      <th>0</th>\n",
       "      <td>346</td>\n",
       "      <td>Port Keats</td>\n",
       "      <td>AU</td>\n",
       "      <td>81.99</td>\n",
       "      <td>overcast clouds</td>\n",
       "      <td>-14.25</td>\n",
       "      <td>129.55</td>\n",
       "      <td>TDC Village (Hundred Man Camp)</td>\n",
       "      <td>ChIJ5xCIME9wliwRFR-WyMBAa8c</td>\n",
       "    </tr>\n",
       "    <tr>\n",
       "      <th>1</th>\n",
       "      <td>241</td>\n",
       "      <td>Mount Isa</td>\n",
       "      <td>AU</td>\n",
       "      <td>80.60</td>\n",
       "      <td>clear sky</td>\n",
       "      <td>-20.73</td>\n",
       "      <td>139.50</td>\n",
       "      <td>ibis Styles Mt Isa Verona</td>\n",
       "      <td>ChIJN2o1efxSFmoRtTi-NobVc6U</td>\n",
       "    </tr>\n",
       "    <tr>\n",
       "      <th>2</th>\n",
       "      <td>325</td>\n",
       "      <td>Alice Springs</td>\n",
       "      <td>AU</td>\n",
       "      <td>75.00</td>\n",
       "      <td>scattered clouds</td>\n",
       "      <td>-23.70</td>\n",
       "      <td>133.88</td>\n",
       "      <td>Desert Palms Alice Springs</td>\n",
       "      <td>ChIJY5USd-QbMisRw9K0kmzGGuE</td>\n",
       "    </tr>\n",
       "    <tr>\n",
       "      <th>3</th>\n",
       "      <td>49</td>\n",
       "      <td>Yulara</td>\n",
       "      <td>AU</td>\n",
       "      <td>80.60</td>\n",
       "      <td>scattered clouds</td>\n",
       "      <td>-25.24</td>\n",
       "      <td>130.99</td>\n",
       "      <td>Desert Gardens Hotel - Ayers Rock Resort</td>\n",
       "      <td>ChIJ24TZRSNAIysRYjNts0ZvnUY</td>\n",
       "    </tr>\n",
       "    <tr>\n",
       "      <th>4</th>\n",
       "      <td>346</td>\n",
       "      <td>Port Keats</td>\n",
       "      <td>AU</td>\n",
       "      <td>81.99</td>\n",
       "      <td>overcast clouds</td>\n",
       "      <td>-14.25</td>\n",
       "      <td>129.55</td>\n",
       "      <td>TDC Village (Hundred Man Camp)</td>\n",
       "      <td>ChIJ5xCIME9wliwRFR-WyMBAa8c</td>\n",
       "    </tr>\n",
       "  </tbody>\n",
       "</table>\n",
       "</div>"
      ],
      "text/plain": [
       "   City_ID           City Country  Max Temp Weather Description    Lat  \\\n",
       "0      346     Port Keats      AU     81.99     overcast clouds -14.25   \n",
       "1      241      Mount Isa      AU     80.60           clear sky -20.73   \n",
       "2      325  Alice Springs      AU     75.00    scattered clouds -23.70   \n",
       "3       49         Yulara      AU     80.60    scattered clouds -25.24   \n",
       "4      346     Port Keats      AU     81.99     overcast clouds -14.25   \n",
       "\n",
       "      Lng                                Hotel Name  \\\n",
       "0  129.55            TDC Village (Hundred Man Camp)   \n",
       "1  139.50                 ibis Styles Mt Isa Verona   \n",
       "2  133.88                Desert Palms Alice Springs   \n",
       "3  130.99  Desert Gardens Hotel - Ayers Rock Resort   \n",
       "4  129.55            TDC Village (Hundred Man Camp)   \n",
       "\n",
       "           Hotel Location Code  \n",
       "0  ChIJ5xCIME9wliwRFR-WyMBAa8c  \n",
       "1  ChIJN2o1efxSFmoRtTi-NobVc6U  \n",
       "2  ChIJY5USd-QbMisRw9K0kmzGGuE  \n",
       "3  ChIJ24TZRSNAIysRYjNts0ZvnUY  \n",
       "4  ChIJ5xCIME9wliwRFR-WyMBAa8c  "
      ]
     },
     "execution_count": 62,
     "metadata": {},
     "output_type": "execute_result"
    }
   ],
   "source": [
    "# 8. To create a marker layer map between the four cities.\n",
    "#  Combine the four city DataFrames into one DataFrame using the concat() function.\n",
    "itinerary_df = pd.concat([vacation_start, vacation_stop1, vacation_stop2, vacation_stop3, vacation_end],ignore_index=True)\n",
    "itinerary_df"
   ]
  },
  {
   "cell_type": "code",
   "execution_count": 63,
   "metadata": {},
   "outputs": [],
   "source": [
    "# 9 Using the template add city name, the country code, the weather description and maximum temperature for the city. \n",
    "info_box_template = \"\"\"\n",
    "<dt>Hotel Name</dt><dd>{Hotel Name}</dd>\n",
    "<dt>City</dt><dd>{City}</dd>\n",
    "<dt>Country</dt><dd>{Country}</dd>\n",
    "<dt>Weather</dt><dd>{Weather Description}</dd>\n",
    "<dt>Max Temp</dt><dd>{Max Temp} °F</dd>\n",
    "</dl>\n",
    "\"\"\"\n",
    "\n",
    "# 10a Get the data from each row and add it to the formatting template and store the data in a list.\n",
    "hotel_info = [info_box_template.format(**row) for index, row in itinerary_df.iterrows()]\n",
    "\n",
    "# 10b. Get the latitude and longitude from each row and store in a new DataFrame.\n",
    "locations = itinerary_df[[\"Lat\", \"Lng\"]]"
   ]
  },
  {
   "cell_type": "code",
   "execution_count": 64,
   "metadata": {},
   "outputs": [
    {
     "data": {
      "application/vnd.jupyter.widget-view+json": {
       "model_id": "951290afe90640ba9c2f6856d5f0deee",
       "version_major": 2,
       "version_minor": 0
      },
      "text/plain": [
       "Figure(layout=FigureLayout(height='420px'))"
      ]
     },
     "metadata": {},
     "output_type": "display_data"
    }
   ],
   "source": [
    "# 11a. Add a marker layer for each city to the map.\n",
    "fig = gmaps.figure()\n",
    "marker_layer = gmaps.marker_layer(locations, info_box_content=hotel_info)\n",
    "fig.add_layer(marker_layer)\n",
    "# 11b. Display the figure\n",
    "fig"
   ]
  },
  {
   "cell_type": "code",
   "execution_count": null,
   "metadata": {},
   "outputs": [],
   "source": []
  }
 ],
 "metadata": {
  "kernelspec": {
   "display_name": "PythonData",
   "language": "python",
   "name": "pythondata"
  },
  "language_info": {
   "codemirror_mode": {
    "name": "ipython",
    "version": 3
   },
   "file_extension": ".py",
   "mimetype": "text/x-python",
   "name": "python",
   "nbconvert_exporter": "python",
   "pygments_lexer": "ipython3",
   "version": "3.7.7"
  },
  "latex_envs": {
   "LaTeX_envs_menu_present": true,
   "autoclose": false,
   "autocomplete": true,
   "bibliofile": "biblio.bib",
   "cite_by": "apalike",
   "current_citInitial": 1,
   "eqLabelWithNumbers": true,
   "eqNumInitial": 1,
   "hotkeys": {
    "equation": "Ctrl-E",
    "itemize": "Ctrl-I"
   },
   "labels_anchors": false,
   "latex_user_defs": false,
   "report_style_numbering": false,
   "user_envs_cfg": false
  }
 },
 "nbformat": 4,
 "nbformat_minor": 2
}
